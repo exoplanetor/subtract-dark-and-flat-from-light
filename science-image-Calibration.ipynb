{
 "cells": [
  {
   "cell_type": "code",
   "execution_count": 56,
   "id": "41f1680e-287a-4537-b0de-d7ecaf3ce6b6",
   "metadata": {},
   "outputs": [],
   "source": [
    "from pathlib import Path\n",
    "from astropy.io import fits\n",
    "from matplotlib import pyplot as plt\n",
    "import numpy as np\n",
    "import os\n",
    "from astropy import units as u\n",
    "import ccdproc as ccdp\n",
    "from astropy.nddata import CCDData\n",
    "from convenience_functions import show_image"
   ]
  },
  {
   "cell_type": "code",
   "execution_count": 57,
   "id": "ad5c0ed2-81a7-4c49-9c18-ee2b41a4fc76",
   "metadata": {},
   "outputs": [],
   "source": [
    "reduced_path = Path('C:\\\\Users\\\\Observatory\\\\Exo\\\\tut\\\\INO-ic-10\\\\calibrated-files')\n",
    "raw_path = Path('C:\\\\Users\\\\Observatory\\\\Exo\\\\tut\\\\INO-ic-10\\\\calibrated-files\\\\raw')"
   ]
  },
  {
   "cell_type": "code",
   "execution_count": 58,
   "id": "637aca71-3e14-4f20-bfd3-abb526b81d05",
   "metadata": {},
   "outputs": [],
   "source": [
    "science_imagetyp = 'object'\n",
    "flat_imagetyp = 'flatfield'\n",
    "exposure = 'exptime'"
   ]
  },
  {
   "cell_type": "code",
   "execution_count": 34,
   "id": "c7f5e364-3003-4349-a859-12792739b1df",
   "metadata": {},
   "outputs": [
    {
     "data": {
      "text/html": [
       "<div><i>Table length=2</i>\n",
       "<table id=\"table2058441452400\" class=\"table-striped table-bordered table-condensed\">\n",
       "<thead><tr><th>date-obs</th><th>exptime</th><th>img_typ</th><th>bunit</th><th>combined</th></tr></thead>\n",
       "<thead><tr><th>str29</th><th>int32</th><th>str6</th><th>str3</th><th>object</th></tr></thead>\n",
       "<tr><td>2023-10-08T19:25:56.418 NOGPS</td><td>1937984</td><td>object</td><td>adu</td><td>True</td></tr>\n",
       "<tr><td>2023-10-08T18:53:41.594 NOGPS</td><td>1937984</td><td>object</td><td>adu</td><td>--</td></tr>\n",
       "</table></div>"
      ],
      "text/plain": [
       "<Table length=2>\n",
       "           date-obs           exptime img_typ bunit combined\n",
       "            str29              int32    str6   str3  object \n",
       "----------------------------- ------- ------- ----- --------\n",
       "2023-10-08T19:25:56.418 NOGPS 1937984  object   adu     True\n",
       "2023-10-08T18:53:41.594 NOGPS 1937984  object   adu       --"
      ]
     },
     "execution_count": 34,
     "metadata": {},
     "output_type": "execute_result"
    }
   ],
   "source": [
    "im_collection = ccdp.ImageFileCollection(raw_path)\n",
    "#im_collection.summary\n",
    "lights= im_collection.summary\n",
    "lights['date-obs', 'exptime','img_typ','bunit','combined']"
   ]
  },
  {
   "cell_type": "code",
   "execution_count": 35,
   "id": "285309a2-c31e-4a0a-aff3-501365014fb1",
   "metadata": {},
   "outputs": [
    {
     "data": {
      "text/html": [
       "<div><i>Table length=2</i>\n",
       "<table id=\"table2058440884736\" class=\"table-striped table-bordered table-condensed\">\n",
       "<thead><tr><th>date-obs</th><th>exptime</th><th>img_typ</th><th>bunit</th><th>combined</th></tr></thead>\n",
       "<thead><tr><th>str29</th><th>int32</th><th>str9</th><th>str3</th><th>str5</th></tr></thead>\n",
       "<tr><td>2023-09-10T07:38:29.576 NOGPS</td><td>9689922</td><td>dark</td><td>adu</td><td>True</td></tr>\n",
       "<tr><td>2023-10-08T17:39:27.259 NOGPS</td><td>5813953</td><td>flatfield</td><td>adu</td><td>True</td></tr>\n",
       "</table></div>"
      ],
      "text/plain": [
       "<Table length=2>\n",
       "           date-obs           exptime  img_typ  bunit combined\n",
       "            str29              int32     str9    str3   str5  \n",
       "----------------------------- ------- --------- ----- --------\n",
       "2023-09-10T07:38:29.576 NOGPS 9689922      dark   adu     True\n",
       "2023-10-08T17:39:27.259 NOGPS 5813953 flatfield   adu     True"
      ]
     },
     "execution_count": 35,
     "metadata": {},
     "output_type": "execute_result"
    }
   ],
   "source": [
    "# Next, a look at the calibrated combined images available to us.\n",
    "\n",
    "calib_collection = ccdp.ImageFileCollection(reduced_path)\n",
    "#im_collection.summary\n",
    "lights= calib_collection.summary\n",
    "lights['date-obs', 'exptime','img_typ','bunit','combined']"
   ]
  },
  {
   "cell_type": "code",
   "execution_count": 68,
   "id": "b095691e-23ed-41a1-97f3-67e0993af2e3",
   "metadata": {},
   "outputs": [],
   "source": [
    "raw_data = CCDData.read('C:\\\\Users\\\\Observatory\\\\Exo\\\\tut\\\\INO-ic-10\\\\calibrated-files\\\\raw\\\\light-i-2023_10_08-exp00.00.20.000-1x1_High_1.fit')\n",
    "#print(raw_data)\n",
    "\n",
    "dark_data = CCDData.read('C:\\\\Users\\\\Observatory\\\\Exo\\\\tut\\\\INO-ic-10\\\\calibrated-files\\\\combined_dark.fit')\n",
    "#print(dark_data)\n",
    "\n",
    "flat_data = CCDData.read('C:\\\\Users\\\\Observatory\\\\Exo\\\\tut\\\\INO-ic-10\\\\calibrated-files\\\\combined_flat_filter.fit')\n",
    "#print(flat_data)\n",
    "\n",
    "### Performing the Actual subtraction of dark from light)###\n",
    "reduced = ccdp.subtract_dark(raw_data, dark_data,exposure_time=exposure, exposure_unit=u.second)\n",
    "#print(reduced)\n",
    "\n",
    "### Performing the Actual subtraction of flat from light)###\n",
    "reduced = ccdp.flat_correct(reduced, flat_data)\n",
    "#print(reduced)\n",
    "\n",
    "#Writing the output to a file\n",
    "reduced.write(reduced_path / ('master_dark-and-flat_removed' + file_name), overwrite=True)"
   ]
  },
  {
   "cell_type": "code",
   "execution_count": null,
   "id": "b19fd125-2222-4ab7-bd7b-36c698cf0f66",
   "metadata": {},
   "outputs": [],
   "source": []
  }
 ],
 "metadata": {
  "kernelspec": {
   "display_name": "Python 3 (ipykernel)",
   "language": "python",
   "name": "python3"
  },
  "language_info": {
   "codemirror_mode": {
    "name": "ipython",
    "version": 3
   },
   "file_extension": ".py",
   "mimetype": "text/x-python",
   "name": "python",
   "nbconvert_exporter": "python",
   "pygments_lexer": "ipython3",
   "version": "3.12.1"
  }
 },
 "nbformat": 4,
 "nbformat_minor": 5
}
